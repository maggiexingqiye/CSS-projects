{
 "cells": [
  {
   "cell_type": "markdown",
   "metadata": {},
   "source": [
    "## [Computational Social Science] Project 5: Natural Language Processing"
   ]
  },
  {
   "cell_type": "markdown",
   "metadata": {},
   "source": [
    "In this project, you will use natural language processing techniques to explore a dataset containing tweets from members of the 116th United States Congress that met from January 3, 2019 to January 2, 2021. The dataset has also been cleaned to contain information about each legislator. Concretely, you will do the following:\n",
    "\n",
    "* Preprocess the text of legislators' tweets\n",
    "* Conduct Exploratory Data Analysis of the text\n",
    "* Use sentiment analysis to explore differences between legislators' tweets\n",
    "* Featurize text with manual feature engineering, frequency-based, and vector-based techniques\n",
    "* Predict legislators' political parties and whether they are a Senator or Representative\n",
    "\n",
    "You will explore two questions that relate to two central findings in political science and examine how they relate to the text of legislators' tweets. First, political scientists have argued that U.S. politics is currently highly polarized relative to other periods in American history, but also that the polarization is asymmetric. Historically, there were several conservative Democrats (i.e. \"blue dog Democrats\") and liberal Republicans (i.e. \"Rockefeller Republicans\"), as measured by popular measurement tools like [DW-NOMINATE](https://en.wikipedia.org/wiki/NOMINATE_(scaling_method)#:~:text=DW\\%2DNOMINATE\\%20scores\\%20have\\%20been,in\\%20the\\%20liberal\\%2Dconservative\\%20scale.). However, in the last few years, there are few if any examples of any Democrat in Congress being further to the right than any Republican and vice versa. At the same time, scholars have argued that this polarization is mostly a function of the Republican party moving further right than the Democratic party has moved left. **Does this sort of asymmetric polarization show up in how politicians communicate to their constituents through tweets?**\n",
    "\n",
    "Second, the U.S. Congress is a bicameral legislature, and there has long been debate about partisanship in the Senate versus the House. The House of Representatives is apportioned by population and all members serve two year terms. In the Senate, each state receives two Senators and each Senator serves a term of six years. For a variety of reasons (smaller chamber size, more insulation from the voters, rules and norms like the filibuster, etc.), the Senate has been argued to be the \"cooling saucer\" of Congress in that it is more bipartisan and moderate than the House. **Does the theory that the Senate is more moderate have support in Senators' tweets?**\n",
    "\n",
    "**Note**: See the project handout for more details on caveats and the data dictionary."
   ]
  },
  {
   "cell_type": "code",
   "execution_count": 2,
   "metadata": {},
   "outputs": [],
   "source": [
    "# pandas and numpy\n",
    "import pandas as pd\n",
    "import numpy as numpy\n",
    "\n",
    "# punctuation, stop words and English language model\n",
    "from string import punctuation\n",
    "from spacy.lang.en.stop_words import STOP_WORDS\n",
    "import en_core_web_sm\n",
    "nlp = en_core_web_sm.load()\n",
    "\n",
    "# textblob\n",
    "from textblob import TextBlob\n",
    "\n",
    "# countvectorizer, tfidfvectorizer\n",
    "from sklearn.feature_extraction.text import CountVectorizer, TfidfVectorizer\n",
    "\n",
    "# gensim\n",
    "import gensim\n",
    "from gensim import models\n",
    "\n",
    "# plotting\n",
    "import matplotlib.pyplot as plt\n",
    "import seaborn as sns\n",
    "%matplotlib inline"
   ]
  },
  {
   "cell_type": "code",
   "execution_count": 4,
   "metadata": {},
   "outputs": [
    {
     "data": {
      "text/html": [
       "<div>\n",
       "<style scoped>\n",
       "    .dataframe tbody tr th:only-of-type {\n",
       "        vertical-align: middle;\n",
       "    }\n",
       "\n",
       "    .dataframe tbody tr th {\n",
       "        vertical-align: top;\n",
       "    }\n",
       "\n",
       "    .dataframe thead th {\n",
       "        text-align: right;\n",
       "    }\n",
       "</style>\n",
       "<table border=\"1\" class=\"dataframe\">\n",
       "  <thead>\n",
       "    <tr style=\"text-align: right;\">\n",
       "      <th></th>\n",
       "      <th>tweet_id</th>\n",
       "      <th>screen_name</th>\n",
       "      <th>datetime</th>\n",
       "      <th>text</th>\n",
       "      <th>name_wikipedia</th>\n",
       "      <th>position</th>\n",
       "      <th>joined_congress_date</th>\n",
       "      <th>birthday</th>\n",
       "      <th>gender</th>\n",
       "      <th>state</th>\n",
       "      <th>district_number</th>\n",
       "      <th>party</th>\n",
       "      <th>trump_2016_state_share</th>\n",
       "      <th>clinton_2016_state_share</th>\n",
       "      <th>obama_2012_state_share</th>\n",
       "      <th>romney_2012_state_share</th>\n",
       "    </tr>\n",
       "  </thead>\n",
       "  <tbody>\n",
       "    <tr>\n",
       "      <th>908961</th>\n",
       "      <td>1.250810e+18</td>\n",
       "      <td>RepJayapal</td>\n",
       "      <td>2020-04-16T11:31:24-04:00</td>\n",
       "      <td>RT @RepKClark 22 million Americans filed for u...</td>\n",
       "      <td>Pramila Jayapal</td>\n",
       "      <td>Rep</td>\n",
       "      <td>3-Jan-17</td>\n",
       "      <td>9/21/1965</td>\n",
       "      <td>F</td>\n",
       "      <td>WA</td>\n",
       "      <td>7</td>\n",
       "      <td>Democrat</td>\n",
       "      <td>1,221,747</td>\n",
       "      <td>1,742,718</td>\n",
       "      <td>1,755,396</td>\n",
       "      <td>1,290,670</td>\n",
       "    </tr>\n",
       "    <tr>\n",
       "      <th>175615</th>\n",
       "      <td>1.098040e+18</td>\n",
       "      <td>RepJohnLarson</td>\n",
       "      <td>2019-02-19T20:51:22-05:00</td>\n",
       "      <td>Thanks to all who came out to tonight’s forum ...</td>\n",
       "      <td>John B. Larson</td>\n",
       "      <td>Rep</td>\n",
       "      <td>3-Jan-99</td>\n",
       "      <td>7/22/1948</td>\n",
       "      <td>M</td>\n",
       "      <td>CT</td>\n",
       "      <td>1</td>\n",
       "      <td>Democrat</td>\n",
       "      <td>673,215</td>\n",
       "      <td>897,572</td>\n",
       "      <td>905,083</td>\n",
       "      <td>634,892</td>\n",
       "    </tr>\n",
       "    <tr>\n",
       "      <th>64613</th>\n",
       "      <td>1.105510e+18</td>\n",
       "      <td>SpeakerPelosi</td>\n",
       "      <td>2019-03-12T12:55:01-04:00</td>\n",
       "      <td>RT @RepFilemonVela #Dreamers &amp;amp; TPS recipie...</td>\n",
       "      <td>Nancy Pelosi</td>\n",
       "      <td>Rep</td>\n",
       "      <td>2-Jun-87</td>\n",
       "      <td>3/26/1940</td>\n",
       "      <td>F</td>\n",
       "      <td>CA</td>\n",
       "      <td>12</td>\n",
       "      <td>Democrat</td>\n",
       "      <td>4,483,814</td>\n",
       "      <td>8,753,792</td>\n",
       "      <td>7,854,285</td>\n",
       "      <td>4,839,958</td>\n",
       "    </tr>\n",
       "    <tr>\n",
       "      <th>783091</th>\n",
       "      <td>1.174370e+18</td>\n",
       "      <td>JoaquinCastrotx</td>\n",
       "      <td>2019-09-18T13:24:49-04:00</td>\n",
       "      <td>RT @HispanicCaucus @JoaquinCastrotx @TheBlackC...</td>\n",
       "      <td>Joaquín Castro</td>\n",
       "      <td>Rep</td>\n",
       "      <td>3-Jan-13</td>\n",
       "      <td>9/16/1974</td>\n",
       "      <td>M</td>\n",
       "      <td>TX</td>\n",
       "      <td>20</td>\n",
       "      <td>Democrat</td>\n",
       "      <td>4,685,047</td>\n",
       "      <td>3,877,868</td>\n",
       "      <td>3,308,124</td>\n",
       "      <td>4,569,843</td>\n",
       "    </tr>\n",
       "    <tr>\n",
       "      <th>553399</th>\n",
       "      <td>1.099380e+18</td>\n",
       "      <td>RepJoeMorelle</td>\n",
       "      <td>2019-02-23T13:29:08-05:00</td>\n",
       "      <td>Thank you to @NYGovCuomo for being here today ...</td>\n",
       "      <td>Joseph D. Morelle</td>\n",
       "      <td>Rep</td>\n",
       "      <td>13-Nov-18</td>\n",
       "      <td>4/29/1957</td>\n",
       "      <td>M</td>\n",
       "      <td>NY</td>\n",
       "      <td>25</td>\n",
       "      <td>Democrat</td>\n",
       "      <td>2,819,533</td>\n",
       "      <td>4,556,118</td>\n",
       "      <td>4,485,741</td>\n",
       "      <td>2,490,431</td>\n",
       "    </tr>\n",
       "  </tbody>\n",
       "</table>\n",
       "</div>"
      ],
      "text/plain": [
       "            tweet_id      screen_name                   datetime  \\\n",
       "908961  1.250810e+18       RepJayapal  2020-04-16T11:31:24-04:00   \n",
       "175615  1.098040e+18    RepJohnLarson  2019-02-19T20:51:22-05:00   \n",
       "64613   1.105510e+18    SpeakerPelosi  2019-03-12T12:55:01-04:00   \n",
       "783091  1.174370e+18  JoaquinCastrotx  2019-09-18T13:24:49-04:00   \n",
       "553399  1.099380e+18    RepJoeMorelle  2019-02-23T13:29:08-05:00   \n",
       "\n",
       "                                                     text     name_wikipedia  \\\n",
       "908961  RT @RepKClark 22 million Americans filed for u...    Pramila Jayapal   \n",
       "175615  Thanks to all who came out to tonight’s forum ...     John B. Larson   \n",
       "64613   RT @RepFilemonVela #Dreamers &amp; TPS recipie...       Nancy Pelosi   \n",
       "783091  RT @HispanicCaucus @JoaquinCastrotx @TheBlackC...     Joaquín Castro   \n",
       "553399  Thank you to @NYGovCuomo for being here today ...  Joseph D. Morelle   \n",
       "\n",
       "       position joined_congress_date   birthday gender state district_number  \\\n",
       "908961      Rep             3-Jan-17  9/21/1965      F    WA               7   \n",
       "175615      Rep             3-Jan-99  7/22/1948      M    CT               1   \n",
       "64613       Rep             2-Jun-87  3/26/1940      F    CA              12   \n",
       "783091      Rep             3-Jan-13  9/16/1974      M    TX              20   \n",
       "553399      Rep            13-Nov-18  4/29/1957      M    NY              25   \n",
       "\n",
       "           party trump_2016_state_share clinton_2016_state_share  \\\n",
       "908961  Democrat              1,221,747                1,742,718   \n",
       "175615  Democrat                673,215                  897,572   \n",
       "64613   Democrat              4,483,814                8,753,792   \n",
       "783091  Democrat              4,685,047                3,877,868   \n",
       "553399  Democrat              2,819,533                4,556,118   \n",
       "\n",
       "       obama_2012_state_share romney_2012_state_share  \n",
       "908961              1,755,396               1,290,670  \n",
       "175615                905,083                 634,892  \n",
       "64613               7,854,285               4,839,958  \n",
       "783091              3,308,124               4,569,843  \n",
       "553399              4,485,741               2,490,431  "
      ]
     },
     "execution_count": 4,
     "metadata": {},
     "output_type": "execute_result"
    }
   ],
   "source": [
    "# load data \n",
    "# ----------\n",
    "congress_tweets = pd.read_csv(\"116th Congressional Tweets and Demographics.csv\")\n",
    "\n",
    "# randomly select 1000 rows to analyze\n",
    "tweet_subsample = congress_tweets.sample(n=1000, random_state=42)\n",
    "tweet_subsample.head()\n"
   ]
  },
  {
   "cell_type": "code",
   "execution_count": 29,
   "metadata": {},
   "outputs": [
    {
     "name": "stdout",
     "output_type": "stream",
     "text": [
      "908961    RT @RepKClark 22 million Americans filed for unemployment in the last 4 weeks. We need to find innovative solutions and to act fast. That's why I support the #PaycheckGuaranteeAct, which will cover 100% of wages for workers earning up to $100k and will ensure workers keep their #healthcare. https://twitter.com/politico/status/1250764214433611784 QT @politico BREAKING: 5.2 million Americans applied for unemployment last week. In four weeks alone, that’s more than 22 million people seeking jobless benefits. https://www.politico.com/news/2020/04/16/coronavirus-unemployment-claims-numbers-190026\n",
      "Name: text, dtype: object\n"
     ]
    }
   ],
   "source": [
    "pd.set_option('display.max_colwidth', None)\n",
    "print (tweet_subsample['text'].head(1))"
   ]
  },
  {
   "cell_type": "markdown",
   "metadata": {},
   "source": [
    "## Preprocessing"
   ]
  },
  {
   "cell_type": "markdown",
   "metadata": {},
   "source": [
    "The first step in working with text data is to preprocess it. Make sure you do the following:\n",
    "\n",
    "* Remove punctuation and stop words. The `rem_punc_stop()` function we used in lab is provided to you but you should feel free to edit it as necessary for other steps\n",
    "* Remove tokens that occur frequently in tweets, but may not be helpful for downstream classification. For instance, many tweets contain a flag for retweeting, or share a URL \n",
    "\n",
    "As you search online, you might run into solutions that rely on regular expressions. You are free to use these, but you should also be able to preprocess using the techniques we covered in lab. Specifically, we encourage you to use spaCy's token attributes and string methods to do some of this text preprocessing."
   ]
  },
  {
   "cell_type": "code",
   "execution_count": 31,
   "metadata": {},
   "outputs": [
    {
     "name": "stdout",
     "output_type": "stream",
     "text": [
      "908961    RT @RepKClark 22 million Americans filed for unemployment in the last 4 weeks. We need to find innovative solutions and to act fast. That's why I support the #PaycheckGuaranteeAct, which will cover 100% of wages for workers earning up to $100k and will ensure workers keep their #healthcare.  QT @politico BREAKING: 5.2 million Americans applied for unemployment last week. In four weeks alone, that’s more than 22 million people seeking jobless benefits. \n",
      "Name: tweet_nolink, dtype: object\n"
     ]
    }
   ],
   "source": [
    "#Remove links first\n",
    "\n",
    "import re\n",
    "\n",
    "# Define a function for removing links\n",
    "def remove_links(text):\n",
    "    return re.sub(r'http\\S+', '', text)\n",
    "\n",
    "# Apply the function to all texts \n",
    "tweet_subsample['tweet_nolink'] = tweet_subsample['text'].apply(remove_links)\n",
    "\n",
    "# Example output\n",
    "print (tweet_subsample['tweet_nolink'].head(1))"
   ]
  },
  {
   "cell_type": "code",
   "execution_count": 60,
   "metadata": {},
   "outputs": [
    {
     "data": {
      "text/plain": [
       "['RT',\n",
       " '@RepKClark',\n",
       " '22',\n",
       " 'million',\n",
       " 'Americans',\n",
       " 'filed',\n",
       " 'for',\n",
       " 'unemployment',\n",
       " 'in',\n",
       " 'the']"
      ]
     },
     "execution_count": 60,
     "metadata": {},
     "output_type": "execute_result"
    }
   ],
   "source": [
    "# Tokenize texts\n",
    "\n",
    "# Define the function for tokenizing texts\n",
    "nlp = en_core_web_sm.load()\n",
    "def tokenize_text(text):\n",
    "    doc = nlp(text)\n",
    "    return [token.text for token in doc]\n",
    "\n",
    "# Apply the function to all texts \n",
    "tweet_subsample['tokenized_text'] = tweet_subsample['tweet_nolink'].apply(tokenize_text)\n",
    "\n",
    "# Example tokenized words\n",
    "first_row_tokenized= tweet_subsample['tokenized_text'].iloc[0]\n",
    "first_10_tokens = first_row_tokenized[:10]\n",
    "list(first_10_tokens)"
   ]
  },
  {
   "cell_type": "code",
   "execution_count": 69,
   "metadata": {},
   "outputs": [
    {
     "data": {
      "text/plain": [
       "['22',\n",
       " 'million',\n",
       " 'Americans',\n",
       " 'filed',\n",
       " 'for',\n",
       " 'unemployment',\n",
       " 'in',\n",
       " 'the',\n",
       " 'last',\n",
       " '4']"
      ]
     },
     "execution_count": 69,
     "metadata": {},
     "output_type": "execute_result"
    }
   ],
   "source": [
    "#Remove flags for retweeting \n",
    "\n",
    "#define a function for removing flag for retweeting \n",
    "def clean_text(tokenized_text):\n",
    "    cleaned_tokens = []\n",
    "    for token in tokenized_text:\n",
    "        if not token.startswith('@') and token != \"RT\":\n",
    "            cleaned_tokens.append(token)\n",
    "    return cleaned_tokens\n",
    "\n",
    "#apply the function to reduced texts\n",
    "tweet_subsample['no_flag'] = tweet_subsample['tokenized_text'].apply(clean_text)\n",
    "\n",
    "\n",
    "#example output\n",
    "first_row_no_flag = tweet_subsample['no_flag'].iloc[0]\n",
    "first_10_no_flag= first_row_no_flag[:10]\n",
    "list(first_10_no_flag)"
   ]
  },
  {
   "cell_type": "code",
   "execution_count": 70,
   "metadata": {},
   "outputs": [
    {
     "data": {
      "text/plain": [
       "['22',\n",
       " 'million',\n",
       " 'Americans',\n",
       " 'filed',\n",
       " 'unemployment',\n",
       " '4',\n",
       " 'weeks',\n",
       " 'need',\n",
       " 'find',\n",
       " 'innovative']"
      ]
     },
     "execution_count": 70,
     "metadata": {},
     "output_type": "execute_result"
    }
   ],
   "source": [
    "# Remove stop words and punctuation from tokens\n",
    "\n",
    "# Define the function for removing stop words and punctuation from tokens\n",
    "def rem_punc_stop(tokens):\n",
    "    stop_words = STOP_WORDS\n",
    "    punc = set(punctuation)\n",
    "    cleaned_tokens = []\n",
    "    for token in tokens:\n",
    "        cleaned_token = ''.join([ch for ch in token if ch not in punc])\n",
    "        if cleaned_token and cleaned_token.lower() not in stop_words:\n",
    "            cleaned_tokens.append(cleaned_token)\n",
    "    return cleaned_tokens\n",
    "\n",
    "# Applying the function to tokenized texts\n",
    "tweet_subsample['token_reduced'] = tweet_subsample['no_flag'].apply(rem_punc_stop)\n",
    "\n",
    "# Example output\n",
    "first_row_token_reduced = tweet_subsample['token_reduced'].iloc[0]\n",
    "first_10_reduced = first_row_token_reduced[:10]\n",
    "list(first_10_reduced)"
   ]
  },
  {
   "cell_type": "code",
   "execution_count": 71,
   "metadata": {},
   "outputs": [],
   "source": [
    "# Save data for convenience\n",
    "tweet_subsample.to_csv('tweet_subsample_cleaned.csv', index=False)"
   ]
  },
  {
   "cell_type": "code",
   "execution_count": 74,
   "metadata": {},
   "outputs": [
    {
     "data": {
      "text/html": [
       "<div>\n",
       "<style scoped>\n",
       "    .dataframe tbody tr th:only-of-type {\n",
       "        vertical-align: middle;\n",
       "    }\n",
       "\n",
       "    .dataframe tbody tr th {\n",
       "        vertical-align: top;\n",
       "    }\n",
       "\n",
       "    .dataframe thead th {\n",
       "        text-align: right;\n",
       "    }\n",
       "</style>\n",
       "<table border=\"1\" class=\"dataframe\">\n",
       "  <thead>\n",
       "    <tr style=\"text-align: right;\">\n",
       "      <th></th>\n",
       "      <th>tweet_id</th>\n",
       "      <th>screen_name</th>\n",
       "      <th>datetime</th>\n",
       "      <th>text</th>\n",
       "      <th>name_wikipedia</th>\n",
       "      <th>position</th>\n",
       "      <th>joined_congress_date</th>\n",
       "      <th>birthday</th>\n",
       "      <th>gender</th>\n",
       "      <th>state</th>\n",
       "      <th>...</th>\n",
       "      <th>party</th>\n",
       "      <th>trump_2016_state_share</th>\n",
       "      <th>clinton_2016_state_share</th>\n",
       "      <th>obama_2012_state_share</th>\n",
       "      <th>romney_2012_state_share</th>\n",
       "      <th>tokenized_text</th>\n",
       "      <th>token_reduced</th>\n",
       "      <th>cleaned_text</th>\n",
       "      <th>tweet_nolink</th>\n",
       "      <th>no_flag</th>\n",
       "    </tr>\n",
       "  </thead>\n",
       "  <tbody>\n",
       "    <tr>\n",
       "      <th>0</th>\n",
       "      <td>1.250810e+18</td>\n",
       "      <td>RepJayapal</td>\n",
       "      <td>2020-04-16T11:31:24-04:00</td>\n",
       "      <td>RT @RepKClark 22 million Americans filed for unemployment in the last 4 weeks. We need to find innovative solutions and to act fast. That's why I support the #PaycheckGuaranteeAct, which will cover 100% of wages for workers earning up to $100k and will ensure workers keep their #healthcare. https://twitter.com/politico/status/1250764214433611784 QT @politico BREAKING: 5.2 million Americans applied for unemployment last week. In four weeks alone, that’s more than 22 million people seeking jobless benefits. https://www.politico.com/news/2020/04/16/coronavirus-unemployment-claims-numbers-190026</td>\n",
       "      <td>Pramila Jayapal</td>\n",
       "      <td>Rep</td>\n",
       "      <td>3-Jan-17</td>\n",
       "      <td>9/21/1965</td>\n",
       "      <td>F</td>\n",
       "      <td>WA</td>\n",
       "      <td>...</td>\n",
       "      <td>Democrat</td>\n",
       "      <td>1,221,747</td>\n",
       "      <td>1,742,718</td>\n",
       "      <td>1,755,396</td>\n",
       "      <td>1,290,670</td>\n",
       "      <td>['RT', '@RepKClark', '22', 'million', 'Americans', 'filed', 'for', 'unemployment', 'in', 'the', 'last', '4', 'weeks', '.', 'We', 'need', 'to', 'find', 'innovative', 'solutions', 'and', 'to', 'act', 'fast', '.', 'That', \"'s\", 'why', 'I', 'support', 'the', '#', 'PaycheckGuaranteeAct', ',', 'which', 'will', 'cover', '100', '%', 'of', 'wages', 'for', 'workers', 'earning', 'up', 'to', '$', '100k', 'and', 'will', 'ensure', 'workers', 'keep', 'their', '#', 'healthcare', '.', ' ', 'QT', '@politico', 'BREAKING', ':', '5.2', 'million', 'Americans', 'applied', 'for', 'unemployment', 'last', 'week', '.', 'In', 'four', 'weeks', 'alone', ',', 'that', '’s', 'more', 'than', '22', 'million', 'people', 'seeking', 'jobless', 'benefits', '.']</td>\n",
       "      <td>['22', 'million', 'Americans', 'filed', 'unemployment', '4', 'weeks', 'need', 'find', 'innovative', 'solutions', 'act', 'fast', 's', 'support', 'PaycheckGuaranteeAct', 'cover', '100', 'wages', 'workers', 'earning', '100k', 'ensure', 'workers', 'healthcare', ' ', 'QT', 'BREAKING', '52', 'million', 'Americans', 'applied', 'unemployment', 'week', 'weeks', '22', 'million', 'people', 'seeking', 'jobless', 'benefits']</td>\n",
       "      <td>['RT', '22', 'million', 'Americans', 'filed', 'for', 'unemployment', 'in', 'the', 'last', '4', 'weeks', '.', 'We', 'need', 'to', 'find', 'innovative', 'solutions', 'and', 'to', 'act', 'fast', '.', 'That', \"'s\", 'why', 'I', 'support', 'the', '#', 'PaycheckGuaranteeAct', ',', 'which', 'will', 'cover', '100', '%', 'of', 'wages', 'for', 'workers', 'earning', 'up', 'to', '$', '100k', 'and', 'will', 'ensure', 'workers', 'keep', 'their', '#', 'healthcare', '.', ' ', 'QT', 'BREAKING', ':', '5.2', 'million', 'Americans', 'applied', 'for', 'unemployment', 'last', 'week', '.', 'In', 'four', 'weeks', 'alone', ',', 'that', '’s', 'more', 'than', '22', 'million', 'people', 'seeking', 'jobless', 'benefits', '.']</td>\n",
       "      <td>RT @RepKClark 22 million Americans filed for unemployment in the last 4 weeks. We need to find innovative solutions and to act fast. That's why I support the #PaycheckGuaranteeAct, which will cover 100% of wages for workers earning up to $100k and will ensure workers keep their #healthcare.  QT @politico BREAKING: 5.2 million Americans applied for unemployment last week. In four weeks alone, that’s more than 22 million people seeking jobless benefits.</td>\n",
       "      <td>['22', 'million', 'Americans', 'filed', 'for', 'unemployment', 'in', 'the', 'last', '4', 'weeks', '.', 'We', 'need', 'to', 'find', 'innovative', 'solutions', 'and', 'to', 'act', 'fast', '.', 'That', \"'s\", 'why', 'I', 'support', 'the', '#', 'PaycheckGuaranteeAct', ',', 'which', 'will', 'cover', '100', '%', 'of', 'wages', 'for', 'workers', 'earning', 'up', 'to', '$', '100k', 'and', 'will', 'ensure', 'workers', 'keep', 'their', '#', 'healthcare', '.', ' ', 'QT', 'BREAKING', ':', '5.2', 'million', 'Americans', 'applied', 'for', 'unemployment', 'last', 'week', '.', 'In', 'four', 'weeks', 'alone', ',', 'that', '’s', 'more', 'than', '22', 'million', 'people', 'seeking', 'jobless', 'benefits', '.']</td>\n",
       "    </tr>\n",
       "    <tr>\n",
       "      <th>1</th>\n",
       "      <td>1.098040e+18</td>\n",
       "      <td>RepJohnLarson</td>\n",
       "      <td>2019-02-19T20:51:22-05:00</td>\n",
       "      <td>Thanks to all who came out to tonight’s forum on the #GOPTaxLaw http://pbs.twimg.com/media/Dz0DJyKWsAAT3FZ.jpg http://pbs.twimg.com/media/Dz0DJyKXgAAyc6N.jpg http://pbs.twimg.com/media/Dz0DJyLWkAUzD4L.jpg</td>\n",
       "      <td>John B. Larson</td>\n",
       "      <td>Rep</td>\n",
       "      <td>3-Jan-99</td>\n",
       "      <td>7/22/1948</td>\n",
       "      <td>M</td>\n",
       "      <td>CT</td>\n",
       "      <td>...</td>\n",
       "      <td>Democrat</td>\n",
       "      <td>673,215</td>\n",
       "      <td>897,572</td>\n",
       "      <td>905,083</td>\n",
       "      <td>634,892</td>\n",
       "      <td>['Thanks', 'to', 'all', 'who', 'came', 'out', 'to', 'tonight', '’s', 'forum', 'on', 'the', '#', 'GOPTaxLaw', '  ']</td>\n",
       "      <td>['Thanks', 'came', 'tonight', 'forum', 'GOPTaxLaw', '  ']</td>\n",
       "      <td>['Thanks', 'to', 'all', 'who', 'came', 'out', 'to', 'tonight', '’s', 'forum', 'on', 'the', '#', 'GOPTaxLaw', '  ']</td>\n",
       "      <td>Thanks to all who came out to tonight’s forum on the #GOPTaxLaw</td>\n",
       "      <td>['Thanks', 'to', 'all', 'who', 'came', 'out', 'to', 'tonight', '’s', 'forum', 'on', 'the', '#', 'GOPTaxLaw', '  ']</td>\n",
       "    </tr>\n",
       "    <tr>\n",
       "      <th>2</th>\n",
       "      <td>1.105510e+18</td>\n",
       "      <td>SpeakerPelosi</td>\n",
       "      <td>2019-03-12T12:55:01-04:00</td>\n",
       "      <td>RT @RepFilemonVela #Dreamers &amp;amp; TPS recipients are essential members of communities across the country, working &amp;amp; living alongside us all. We won’t let them be torn away from our communities. #ProtectTheDream #HR6 http://pbs.twimg.com/media/D1d_bWEWoAEOLrz.png</td>\n",
       "      <td>Nancy Pelosi</td>\n",
       "      <td>Rep</td>\n",
       "      <td>2-Jun-87</td>\n",
       "      <td>3/26/1940</td>\n",
       "      <td>F</td>\n",
       "      <td>CA</td>\n",
       "      <td>...</td>\n",
       "      <td>Democrat</td>\n",
       "      <td>4,483,814</td>\n",
       "      <td>8,753,792</td>\n",
       "      <td>7,854,285</td>\n",
       "      <td>4,839,958</td>\n",
       "      <td>['RT', '@RepFilemonVela', '#', 'Dreamers', '&amp;', 'amp', ';', 'TPS', 'recipients', 'are', 'essential', 'members', 'of', 'communities', 'across', 'the', 'country', ',', 'working', '&amp;', 'amp', ';', 'living', 'alongside', 'us', 'all', '.', 'We', 'wo', 'n’t', 'let', 'them', 'be', 'torn', 'away', 'from', 'our', 'communities', '.', '#', 'ProtectTheDream', '#', 'HR6']</td>\n",
       "      <td>['Dreamers', 'amp', 'TPS', 'recipients', 'essential', 'members', 'communities', 'country', 'working', 'amp', 'living', 'alongside', 'wo', 'let', 'torn', 'away', 'communities', 'ProtectTheDream', 'HR6']</td>\n",
       "      <td>['RT', '#', 'Dreamers', '&amp;', 'amp', ';', 'TPS', 'recipients', 'are', 'essential', 'members', 'of', 'communities', 'across', 'the', 'country', ',', 'working', '&amp;', 'amp', ';', 'living', 'alongside', 'us', 'all', '.', 'We', 'wo', 'n’t', 'let', 'them', 'be', 'torn', 'away', 'from', 'our', 'communities', '.', '#', 'ProtectTheDream', '#', 'HR6']</td>\n",
       "      <td>RT @RepFilemonVela #Dreamers &amp;amp; TPS recipients are essential members of communities across the country, working &amp;amp; living alongside us all. We won’t let them be torn away from our communities. #ProtectTheDream #HR6</td>\n",
       "      <td>['#', 'Dreamers', '&amp;', 'amp', ';', 'TPS', 'recipients', 'are', 'essential', 'members', 'of', 'communities', 'across', 'the', 'country', ',', 'working', '&amp;', 'amp', ';', 'living', 'alongside', 'us', 'all', '.', 'We', 'wo', 'n’t', 'let', 'them', 'be', 'torn', 'away', 'from', 'our', 'communities', '.', '#', 'ProtectTheDream', '#', 'HR6']</td>\n",
       "    </tr>\n",
       "    <tr>\n",
       "      <th>3</th>\n",
       "      <td>1.174370e+18</td>\n",
       "      <td>JoaquinCastrotx</td>\n",
       "      <td>2019-09-18T13:24:49-04:00</td>\n",
       "      <td>RT @HispanicCaucus @JoaquinCastrotx @TheBlackCaucus @CAPAC @ExpressScripts @OptumRx @UnitedHealthGrp These CEOS represent 2 of the largest Pharmacy Benefit Managers (PBMs) in the US and are key players in the rising cost of insulin. We are hoping for a productive discussion as we all work to ensure that Americans have the #insulin they need at affordable prices. #Insulin4All</td>\n",
       "      <td>Joaquín Castro</td>\n",
       "      <td>Rep</td>\n",
       "      <td>3-Jan-13</td>\n",
       "      <td>9/16/1974</td>\n",
       "      <td>M</td>\n",
       "      <td>TX</td>\n",
       "      <td>...</td>\n",
       "      <td>Democrat</td>\n",
       "      <td>4,685,047</td>\n",
       "      <td>3,877,868</td>\n",
       "      <td>3,308,124</td>\n",
       "      <td>4,569,843</td>\n",
       "      <td>['RT', '@HispanicCaucus', '@JoaquinCastrotx', '@TheBlackCaucus', '@CAPAC', '@ExpressScripts', '@OptumRx', '@UnitedHealthGrp', 'These', 'CEOS', 'represent', '2', 'of', 'the', 'largest', 'Pharmacy', 'Benefit', 'Managers', '(', 'PBMs', ')', 'in', 'the', 'US', 'and', 'are', 'key', 'players', 'in', 'the', 'rising', 'cost', 'of', 'insulin', '.', 'We', 'are', 'hoping', 'for', 'a', 'productive', 'discussion', 'as', 'we', 'all', 'work', 'to', 'ensure', 'that', 'Americans', 'have', 'the', '#', 'insulin', 'they', 'need', 'at', 'affordable', 'prices', '.', '#', 'Insulin4All']</td>\n",
       "      <td>['CEOS', 'represent', '2', 'largest', 'Pharmacy', 'Benefit', 'Managers', 'PBMs', 'key', 'players', 'rising', 'cost', 'insulin', 'hoping', 'productive', 'discussion', 'work', 'ensure', 'Americans', 'insulin', 'need', 'affordable', 'prices', 'Insulin4All']</td>\n",
       "      <td>['RT', 'These', 'CEOS', 'represent', '2', 'of', 'the', 'largest', 'Pharmacy', 'Benefit', 'Managers', '(', 'PBMs', ')', 'in', 'the', 'US', 'and', 'are', 'key', 'players', 'in', 'the', 'rising', 'cost', 'of', 'insulin', '.', 'We', 'are', 'hoping', 'for', 'a', 'productive', 'discussion', 'as', 'we', 'all', 'work', 'to', 'ensure', 'that', 'Americans', 'have', 'the', '#', 'insulin', 'they', 'need', 'at', 'affordable', 'prices', '.', '#', 'Insulin4All']</td>\n",
       "      <td>RT @HispanicCaucus @JoaquinCastrotx @TheBlackCaucus @CAPAC @ExpressScripts @OptumRx @UnitedHealthGrp These CEOS represent 2 of the largest Pharmacy Benefit Managers (PBMs) in the US and are key players in the rising cost of insulin. We are hoping for a productive discussion as we all work to ensure that Americans have the #insulin they need at affordable prices. #Insulin4All</td>\n",
       "      <td>['These', 'CEOS', 'represent', '2', 'of', 'the', 'largest', 'Pharmacy', 'Benefit', 'Managers', '(', 'PBMs', ')', 'in', 'the', 'US', 'and', 'are', 'key', 'players', 'in', 'the', 'rising', 'cost', 'of', 'insulin', '.', 'We', 'are', 'hoping', 'for', 'a', 'productive', 'discussion', 'as', 'we', 'all', 'work', 'to', 'ensure', 'that', 'Americans', 'have', 'the', '#', 'insulin', 'they', 'need', 'at', 'affordable', 'prices', '.', '#', 'Insulin4All']</td>\n",
       "    </tr>\n",
       "    <tr>\n",
       "      <th>4</th>\n",
       "      <td>1.099380e+18</td>\n",
       "      <td>RepJoeMorelle</td>\n",
       "      <td>2019-02-23T13:29:08-05:00</td>\n",
       "      <td>Thank you to @NYGovCuomo for being here today in the face of yet another extreme weather system. The close collaboration we see among all levels of government is exactly what need in times like need to ensure our residents are safe and prepared for tomorrow’s windstorm. http://pbs.twimg.com/media/D0HETHJWkAEM1IZ.jpg</td>\n",
       "      <td>Joseph D. Morelle</td>\n",
       "      <td>Rep</td>\n",
       "      <td>13-Nov-18</td>\n",
       "      <td>4/29/1957</td>\n",
       "      <td>M</td>\n",
       "      <td>NY</td>\n",
       "      <td>...</td>\n",
       "      <td>Democrat</td>\n",
       "      <td>2,819,533</td>\n",
       "      <td>4,556,118</td>\n",
       "      <td>4,485,741</td>\n",
       "      <td>2,490,431</td>\n",
       "      <td>['Thank', 'you', 'to', '@NYGovCuomo', 'for', 'being', 'here', 'today', 'in', 'the', 'face', 'of', 'yet', 'another', 'extreme', 'weather', 'system', '.', 'The', 'close', 'collaboration', 'we', 'see', 'among', 'all', 'levels', 'of', 'government', 'is', 'exactly', 'what', 'need', 'in', 'times', 'like', 'need', 'to', 'ensure', 'our', 'residents', 'are', 'safe', 'and', 'prepared', 'for', 'tomorrow', '’s', 'windstorm', '.']</td>\n",
       "      <td>['Thank', 'today', 'face', 'extreme', 'weather', 'system', 'close', 'collaboration', 'levels', 'government', 'exactly', 'need', 'times', 'like', 'need', 'ensure', 'residents', 'safe', 'prepared', 'tomorrow', 'windstorm']</td>\n",
       "      <td>['Thank', 'you', 'to', 'for', 'being', 'here', 'today', 'in', 'the', 'face', 'of', 'yet', 'another', 'extreme', 'weather', 'system', '.', 'The', 'close', 'collaboration', 'we', 'see', 'among', 'all', 'levels', 'of', 'government', 'is', 'exactly', 'what', 'need', 'in', 'times', 'like', 'need', 'to', 'ensure', 'our', 'residents', 'are', 'safe', 'and', 'prepared', 'for', 'tomorrow', '’s', 'windstorm', '.']</td>\n",
       "      <td>Thank you to @NYGovCuomo for being here today in the face of yet another extreme weather system. The close collaboration we see among all levels of government is exactly what need in times like need to ensure our residents are safe and prepared for tomorrow’s windstorm.</td>\n",
       "      <td>['Thank', 'you', 'to', 'for', 'being', 'here', 'today', 'in', 'the', 'face', 'of', 'yet', 'another', 'extreme', 'weather', 'system', '.', 'The', 'close', 'collaboration', 'we', 'see', 'among', 'all', 'levels', 'of', 'government', 'is', 'exactly', 'what', 'need', 'in', 'times', 'like', 'need', 'to', 'ensure', 'our', 'residents', 'are', 'safe', 'and', 'prepared', 'for', 'tomorrow', '’s', 'windstorm', '.']</td>\n",
       "    </tr>\n",
       "  </tbody>\n",
       "</table>\n",
       "<p>5 rows × 21 columns</p>\n",
       "</div>"
      ],
      "text/plain": [
       "       tweet_id      screen_name                   datetime  \\\n",
       "0  1.250810e+18       RepJayapal  2020-04-16T11:31:24-04:00   \n",
       "1  1.098040e+18    RepJohnLarson  2019-02-19T20:51:22-05:00   \n",
       "2  1.105510e+18    SpeakerPelosi  2019-03-12T12:55:01-04:00   \n",
       "3  1.174370e+18  JoaquinCastrotx  2019-09-18T13:24:49-04:00   \n",
       "4  1.099380e+18    RepJoeMorelle  2019-02-23T13:29:08-05:00   \n",
       "\n",
       "                                                                                                                                                                                                                                                                                                                                                                                                                                                                                                                                                                                                                     text  \\\n",
       "0  RT @RepKClark 22 million Americans filed for unemployment in the last 4 weeks. We need to find innovative solutions and to act fast. That's why I support the #PaycheckGuaranteeAct, which will cover 100% of wages for workers earning up to $100k and will ensure workers keep their #healthcare. https://twitter.com/politico/status/1250764214433611784 QT @politico BREAKING: 5.2 million Americans applied for unemployment last week. In four weeks alone, that’s more than 22 million people seeking jobless benefits. https://www.politico.com/news/2020/04/16/coronavirus-unemployment-claims-numbers-190026   \n",
       "1                                                                                                                                                                                                                                                                                                                                                                                                            Thanks to all who came out to tonight’s forum on the #GOPTaxLaw http://pbs.twimg.com/media/Dz0DJyKWsAAT3FZ.jpg http://pbs.twimg.com/media/Dz0DJyKXgAAyc6N.jpg http://pbs.twimg.com/media/Dz0DJyLWkAUzD4L.jpg   \n",
       "2                                                                                                                                                                                                                                                                                                                                             RT @RepFilemonVela #Dreamers &amp; TPS recipients are essential members of communities across the country, working &amp; living alongside us all. We won’t let them be torn away from our communities. #ProtectTheDream #HR6 http://pbs.twimg.com/media/D1d_bWEWoAEOLrz.png   \n",
       "3                                                                                                                                                                                                                               RT @HispanicCaucus @JoaquinCastrotx @TheBlackCaucus @CAPAC @ExpressScripts @OptumRx @UnitedHealthGrp These CEOS represent 2 of the largest Pharmacy Benefit Managers (PBMs) in the US and are key players in the rising cost of insulin. We are hoping for a productive discussion as we all work to ensure that Americans have the #insulin they need at affordable prices. #Insulin4All   \n",
       "4                                                                                                                                                                                                                                                                                           Thank you to @NYGovCuomo for being here today in the face of yet another extreme weather system. The close collaboration we see among all levels of government is exactly what need in times like need to ensure our residents are safe and prepared for tomorrow’s windstorm. http://pbs.twimg.com/media/D0HETHJWkAEM1IZ.jpg   \n",
       "\n",
       "      name_wikipedia position joined_congress_date   birthday gender state  \\\n",
       "0    Pramila Jayapal      Rep             3-Jan-17  9/21/1965      F    WA   \n",
       "1     John B. Larson      Rep             3-Jan-99  7/22/1948      M    CT   \n",
       "2       Nancy Pelosi      Rep             2-Jun-87  3/26/1940      F    CA   \n",
       "3     Joaquín Castro      Rep             3-Jan-13  9/16/1974      M    TX   \n",
       "4  Joseph D. Morelle      Rep            13-Nov-18  4/29/1957      M    NY   \n",
       "\n",
       "   ...     party trump_2016_state_share clinton_2016_state_share  \\\n",
       "0  ...  Democrat              1,221,747                1,742,718   \n",
       "1  ...  Democrat                673,215                  897,572   \n",
       "2  ...  Democrat              4,483,814                8,753,792   \n",
       "3  ...  Democrat              4,685,047                3,877,868   \n",
       "4  ...  Democrat              2,819,533                4,556,118   \n",
       "\n",
       "  obama_2012_state_share romney_2012_state_share  \\\n",
       "0              1,755,396               1,290,670   \n",
       "1                905,083                 634,892   \n",
       "2              7,854,285               4,839,958   \n",
       "3              3,308,124               4,569,843   \n",
       "4              4,485,741               2,490,431   \n",
       "\n",
       "                                                                                                                                                                                                                                                                                                                                                                                                                                                                                                                                                                                                                                                                                                                                                 tokenized_text  \\\n",
       "0  ['RT', '@RepKClark', '22', 'million', 'Americans', 'filed', 'for', 'unemployment', 'in', 'the', 'last', '4', 'weeks', '.', 'We', 'need', 'to', 'find', 'innovative', 'solutions', 'and', 'to', 'act', 'fast', '.', 'That', \"'s\", 'why', 'I', 'support', 'the', '#', 'PaycheckGuaranteeAct', ',', 'which', 'will', 'cover', '100', '%', 'of', 'wages', 'for', 'workers', 'earning', 'up', 'to', '$', '100k', 'and', 'will', 'ensure', 'workers', 'keep', 'their', '#', 'healthcare', '.', ' ', 'QT', '@politico', 'BREAKING', ':', '5.2', 'million', 'Americans', 'applied', 'for', 'unemployment', 'last', 'week', '.', 'In', 'four', 'weeks', 'alone', ',', 'that', '’s', 'more', 'than', '22', 'million', 'people', 'seeking', 'jobless', 'benefits', '.']   \n",
       "1                                                                                                                                                                                                                                                                                                                                                                                                                                                                                                                                                                                                                                            ['Thanks', 'to', 'all', 'who', 'came', 'out', 'to', 'tonight', '’s', 'forum', 'on', 'the', '#', 'GOPTaxLaw', '  ']   \n",
       "2                                                                                                                                                                                                                                                                                                                                                                                     ['RT', '@RepFilemonVela', '#', 'Dreamers', '&', 'amp', ';', 'TPS', 'recipients', 'are', 'essential', 'members', 'of', 'communities', 'across', 'the', 'country', ',', 'working', '&', 'amp', ';', 'living', 'alongside', 'us', 'all', '.', 'We', 'wo', 'n’t', 'let', 'them', 'be', 'torn', 'away', 'from', 'our', 'communities', '.', '#', 'ProtectTheDream', '#', 'HR6']   \n",
       "3                                                                                                                                                                    ['RT', '@HispanicCaucus', '@JoaquinCastrotx', '@TheBlackCaucus', '@CAPAC', '@ExpressScripts', '@OptumRx', '@UnitedHealthGrp', 'These', 'CEOS', 'represent', '2', 'of', 'the', 'largest', 'Pharmacy', 'Benefit', 'Managers', '(', 'PBMs', ')', 'in', 'the', 'US', 'and', 'are', 'key', 'players', 'in', 'the', 'rising', 'cost', 'of', 'insulin', '.', 'We', 'are', 'hoping', 'for', 'a', 'productive', 'discussion', 'as', 'we', 'all', 'work', 'to', 'ensure', 'that', 'Americans', 'have', 'the', '#', 'insulin', 'they', 'need', 'at', 'affordable', 'prices', '.', '#', 'Insulin4All']   \n",
       "4                                                                                                                                                                                                                                                                                                                         ['Thank', 'you', 'to', '@NYGovCuomo', 'for', 'being', 'here', 'today', 'in', 'the', 'face', 'of', 'yet', 'another', 'extreme', 'weather', 'system', '.', 'The', 'close', 'collaboration', 'we', 'see', 'among', 'all', 'levels', 'of', 'government', 'is', 'exactly', 'what', 'need', 'in', 'times', 'like', 'need', 'to', 'ensure', 'our', 'residents', 'are', 'safe', 'and', 'prepared', 'for', 'tomorrow', '’s', 'windstorm', '.']   \n",
       "\n",
       "                                                                                                                                                                                                                                                                                                                                                                                                                     token_reduced  \\\n",
       "0  ['22', 'million', 'Americans', 'filed', 'unemployment', '4', 'weeks', 'need', 'find', 'innovative', 'solutions', 'act', 'fast', 's', 'support', 'PaycheckGuaranteeAct', 'cover', '100', 'wages', 'workers', 'earning', '100k', 'ensure', 'workers', 'healthcare', ' ', 'QT', 'BREAKING', '52', 'million', 'Americans', 'applied', 'unemployment', 'week', 'weeks', '22', 'million', 'people', 'seeking', 'jobless', 'benefits']   \n",
       "1                                                                                                                                                                                                                                                                                                                                                                        ['Thanks', 'came', 'tonight', 'forum', 'GOPTaxLaw', '  ']   \n",
       "2                                                                                                                                                                                                                        ['Dreamers', 'amp', 'TPS', 'recipients', 'essential', 'members', 'communities', 'country', 'working', 'amp', 'living', 'alongside', 'wo', 'let', 'torn', 'away', 'communities', 'ProtectTheDream', 'HR6']   \n",
       "3                                                                                                                                                                   ['CEOS', 'represent', '2', 'largest', 'Pharmacy', 'Benefit', 'Managers', 'PBMs', 'key', 'players', 'rising', 'cost', 'insulin', 'hoping', 'productive', 'discussion', 'work', 'ensure', 'Americans', 'insulin', 'need', 'affordable', 'prices', 'Insulin4All']   \n",
       "4                                                                                                                                                                                                     ['Thank', 'today', 'face', 'extreme', 'weather', 'system', 'close', 'collaboration', 'levels', 'government', 'exactly', 'need', 'times', 'like', 'need', 'ensure', 'residents', 'safe', 'prepared', 'tomorrow', 'windstorm']   \n",
       "\n",
       "                                                                                                                                                                                                                                                                                                                                                                                                                                                                                                                                                                                                                                                                                                                        cleaned_text  \\\n",
       "0  ['RT', '22', 'million', 'Americans', 'filed', 'for', 'unemployment', 'in', 'the', 'last', '4', 'weeks', '.', 'We', 'need', 'to', 'find', 'innovative', 'solutions', 'and', 'to', 'act', 'fast', '.', 'That', \"'s\", 'why', 'I', 'support', 'the', '#', 'PaycheckGuaranteeAct', ',', 'which', 'will', 'cover', '100', '%', 'of', 'wages', 'for', 'workers', 'earning', 'up', 'to', '$', '100k', 'and', 'will', 'ensure', 'workers', 'keep', 'their', '#', 'healthcare', '.', ' ', 'QT', 'BREAKING', ':', '5.2', 'million', 'Americans', 'applied', 'for', 'unemployment', 'last', 'week', '.', 'In', 'four', 'weeks', 'alone', ',', 'that', '’s', 'more', 'than', '22', 'million', 'people', 'seeking', 'jobless', 'benefits', '.']   \n",
       "1                                                                                                                                                                                                                                                                                                                                                                                                                                                                                                                                                                                                                 ['Thanks', 'to', 'all', 'who', 'came', 'out', 'to', 'tonight', '’s', 'forum', 'on', 'the', '#', 'GOPTaxLaw', '  ']   \n",
       "2                                                                                                                                                                                                                                                                                                                                                                             ['RT', '#', 'Dreamers', '&', 'amp', ';', 'TPS', 'recipients', 'are', 'essential', 'members', 'of', 'communities', 'across', 'the', 'country', ',', 'working', '&', 'amp', ';', 'living', 'alongside', 'us', 'all', '.', 'We', 'wo', 'n’t', 'let', 'them', 'be', 'torn', 'away', 'from', 'our', 'communities', '.', '#', 'ProtectTheDream', '#', 'HR6']   \n",
       "3                                                                                                                                                                                                                                                                ['RT', 'These', 'CEOS', 'represent', '2', 'of', 'the', 'largest', 'Pharmacy', 'Benefit', 'Managers', '(', 'PBMs', ')', 'in', 'the', 'US', 'and', 'are', 'key', 'players', 'in', 'the', 'rising', 'cost', 'of', 'insulin', '.', 'We', 'are', 'hoping', 'for', 'a', 'productive', 'discussion', 'as', 'we', 'all', 'work', 'to', 'ensure', 'that', 'Americans', 'have', 'the', '#', 'insulin', 'they', 'need', 'at', 'affordable', 'prices', '.', '#', 'Insulin4All']   \n",
       "4                                                                                                                                                                                                                                                                                                             ['Thank', 'you', 'to', 'for', 'being', 'here', 'today', 'in', 'the', 'face', 'of', 'yet', 'another', 'extreme', 'weather', 'system', '.', 'The', 'close', 'collaboration', 'we', 'see', 'among', 'all', 'levels', 'of', 'government', 'is', 'exactly', 'what', 'need', 'in', 'times', 'like', 'need', 'to', 'ensure', 'our', 'residents', 'are', 'safe', 'and', 'prepared', 'for', 'tomorrow', '’s', 'windstorm', '.']   \n",
       "\n",
       "                                                                                                                                                                                                                                                                                                                                                                                                                                                               tweet_nolink  \\\n",
       "0  RT @RepKClark 22 million Americans filed for unemployment in the last 4 weeks. We need to find innovative solutions and to act fast. That's why I support the #PaycheckGuaranteeAct, which will cover 100% of wages for workers earning up to $100k and will ensure workers keep their #healthcare.  QT @politico BREAKING: 5.2 million Americans applied for unemployment last week. In four weeks alone, that’s more than 22 million people seeking jobless benefits.    \n",
       "1                                                                                                                                                                                                                                                                                                                                                                                                        Thanks to all who came out to tonight’s forum on the #GOPTaxLaw      \n",
       "2                                                                                                                                                                                                                                             RT @RepFilemonVela #Dreamers &amp; TPS recipients are essential members of communities across the country, working &amp; living alongside us all. We won’t let them be torn away from our communities. #ProtectTheDream #HR6    \n",
       "3                                                                                 RT @HispanicCaucus @JoaquinCastrotx @TheBlackCaucus @CAPAC @ExpressScripts @OptumRx @UnitedHealthGrp These CEOS represent 2 of the largest Pharmacy Benefit Managers (PBMs) in the US and are key players in the rising cost of insulin. We are hoping for a productive discussion as we all work to ensure that Americans have the #insulin they need at affordable prices. #Insulin4All   \n",
       "4                                                                                                                                                                                           Thank you to @NYGovCuomo for being here today in the face of yet another extreme weather system. The close collaboration we see among all levels of government is exactly what need in times like need to ensure our residents are safe and prepared for tomorrow’s windstorm.    \n",
       "\n",
       "                                                                                                                                                                                                                                                                                                                                                                                                                                                                                                                                                                                                                                                                                                                       no_flag  \n",
       "0  ['22', 'million', 'Americans', 'filed', 'for', 'unemployment', 'in', 'the', 'last', '4', 'weeks', '.', 'We', 'need', 'to', 'find', 'innovative', 'solutions', 'and', 'to', 'act', 'fast', '.', 'That', \"'s\", 'why', 'I', 'support', 'the', '#', 'PaycheckGuaranteeAct', ',', 'which', 'will', 'cover', '100', '%', 'of', 'wages', 'for', 'workers', 'earning', 'up', 'to', '$', '100k', 'and', 'will', 'ensure', 'workers', 'keep', 'their', '#', 'healthcare', '.', ' ', 'QT', 'BREAKING', ':', '5.2', 'million', 'Americans', 'applied', 'for', 'unemployment', 'last', 'week', '.', 'In', 'four', 'weeks', 'alone', ',', 'that', '’s', 'more', 'than', '22', 'million', 'people', 'seeking', 'jobless', 'benefits', '.']  \n",
       "1                                                                                                                                                                                                                                                                                                                                                                                                                                                                                                                                                                                                           ['Thanks', 'to', 'all', 'who', 'came', 'out', 'to', 'tonight', '’s', 'forum', 'on', 'the', '#', 'GOPTaxLaw', '  ']  \n",
       "2                                                                                                                                                                                                                                                                                                                                                                             ['#', 'Dreamers', '&', 'amp', ';', 'TPS', 'recipients', 'are', 'essential', 'members', 'of', 'communities', 'across', 'the', 'country', ',', 'working', '&', 'amp', ';', 'living', 'alongside', 'us', 'all', '.', 'We', 'wo', 'n’t', 'let', 'them', 'be', 'torn', 'away', 'from', 'our', 'communities', '.', '#', 'ProtectTheDream', '#', 'HR6']  \n",
       "3                                                                                                                                                                                                                                                                ['These', 'CEOS', 'represent', '2', 'of', 'the', 'largest', 'Pharmacy', 'Benefit', 'Managers', '(', 'PBMs', ')', 'in', 'the', 'US', 'and', 'are', 'key', 'players', 'in', 'the', 'rising', 'cost', 'of', 'insulin', '.', 'We', 'are', 'hoping', 'for', 'a', 'productive', 'discussion', 'as', 'we', 'all', 'work', 'to', 'ensure', 'that', 'Americans', 'have', 'the', '#', 'insulin', 'they', 'need', 'at', 'affordable', 'prices', '.', '#', 'Insulin4All']  \n",
       "4                                                                                                                                                                                                                                                                                                       ['Thank', 'you', 'to', 'for', 'being', 'here', 'today', 'in', 'the', 'face', 'of', 'yet', 'another', 'extreme', 'weather', 'system', '.', 'The', 'close', 'collaboration', 'we', 'see', 'among', 'all', 'levels', 'of', 'government', 'is', 'exactly', 'what', 'need', 'in', 'times', 'like', 'need', 'to', 'ensure', 'our', 'residents', 'are', 'safe', 'and', 'prepared', 'for', 'tomorrow', '’s', 'windstorm', '.']  \n",
       "\n",
       "[5 rows x 21 columns]"
      ]
     },
     "execution_count": 74,
     "metadata": {},
     "output_type": "execute_result"
    }
   ],
   "source": [
    "preprocessed_tweets = pd.read_csv(\"tweet_subsample_cleaned.csv\")\n",
    "preprocessed_tweets.head()"
   ]
  },
  {
   "cell_type": "markdown",
   "metadata": {},
   "source": [
    "## Exploratory Data Analysis"
   ]
  },
  {
   "cell_type": "markdown",
   "metadata": {},
   "source": [
    "Use two of the techniques we covered in lab (or other techniques outside of lab!) to explore the text of the tweets. You should construct these visualizations with an eye toward the eventual classification tasks: (1) predicting the legislator's political party based on the text of their tweet, and (2) predicting whether the legislator is a Senator or Representative. As a reminder, in lab we covered word frequencies, word clouds, word/character counts, scattertext, and topic modeling as possible exploration tools. "
   ]
  },
  {
   "cell_type": "markdown",
   "metadata": {},
   "source": [
    "### EDA 1"
   ]
  },
  {
   "cell_type": "code",
   "execution_count": null,
   "metadata": {},
   "outputs": [],
   "source": [
    "... "
   ]
  },
  {
   "cell_type": "markdown",
   "metadata": {},
   "source": [
    "### EDA 2"
   ]
  },
  {
   "cell_type": "code",
   "execution_count": null,
   "metadata": {},
   "outputs": [],
   "source": [
    "..."
   ]
  },
  {
   "cell_type": "markdown",
   "metadata": {},
   "source": [
    "## Sentiment Analysis"
   ]
  },
  {
   "cell_type": "markdown",
   "metadata": {},
   "source": [
    "Next, let's analyze the sentiments contained within the tweets. You may use TextBlob or another library for these tasks. Do the following:\n",
    "\n",
    "* Choose two legislators, one who you think will be more liberal and one who you think will be more conservative, and analyze their sentiment and/or subjectivity scores per tweet. For instance, you might do two scatterplots that plot each legislator's sentiment against their subjectivity, or two density plots for their sentiments. Do the scores match what you thought?\n",
    "* Plot two more visualizations like the ones you chose in the first part, but do them to compare (1) Democrats v. Republicans and (2) Senators v. Representatives \n",
    "\n",
    "`TextBlob` has already been imported in the top cell."
   ]
  },
  {
   "cell_type": "code",
   "execution_count": null,
   "metadata": {},
   "outputs": [],
   "source": [
    "..."
   ]
  },
  {
   "cell_type": "markdown",
   "metadata": {},
   "source": [
    "## Featurization"
   ]
  },
  {
   "cell_type": "markdown",
   "metadata": {},
   "source": [
    "Before going to classification, explore different featurization techniques. Create three dataframes or arrays to represent your text features, specifically:\n",
    "\n",
    "* Features engineered from your previous analysis. For example, word counts, sentiment scores, topic model etc.\n",
    "* A term frequency-inverse document frequency matrix. \n",
    "* An embedding-based featurization (like a document averaged word2vec)\n",
    "\n",
    "In the next section, you will experiment with each of these featurization techniques to see which one produces the best classifications."
   ]
  },
  {
   "cell_type": "code",
   "execution_count": null,
   "metadata": {},
   "outputs": [],
   "source": [
    "..."
   ]
  },
  {
   "cell_type": "markdown",
   "metadata": {},
   "source": [
    "### Engineered Text Features"
   ]
  },
  {
   "cell_type": "code",
   "execution_count": null,
   "metadata": {},
   "outputs": [],
   "source": [
    "# Engineered Features\n",
    "..."
   ]
  },
  {
   "cell_type": "markdown",
   "metadata": {},
   "source": [
    "### Bag-of-words or Tf-idf"
   ]
  },
  {
   "cell_type": "code",
   "execution_count": null,
   "metadata": {},
   "outputs": [],
   "source": [
    "# Frequency Based featurization\n",
    "..."
   ]
  },
  {
   "cell_type": "markdown",
   "metadata": {},
   "source": [
    "### Word Embedding"
   ]
  },
  {
   "cell_type": "code",
   "execution_count": null,
   "metadata": {},
   "outputs": [],
   "source": [
    "# Load Word2Vec model from Google; OPTIONAL depending on your computational resources (the file is ~1 GB)\n",
    "# Also note that this file path assumes that the word vectors are underneath 'data'; you may wish to point to the CSS course repo and change the path\n",
    "# or move the vector file to the project repo \n",
    "\n",
    "#model = gensim.models.KeyedVectors.load_word2vec_format('data/GoogleNews-vectors-negative300.bin.gz', binary = True) "
   ]
  },
  {
   "cell_type": "code",
   "execution_count": null,
   "metadata": {},
   "outputs": [],
   "source": [
    "# Function to average word embeddings for a document; use examples from lab to apply this function. You can use also other techniques such as PCA and doc2vec instead.\n",
    "def document_vector(word2vec_model, doc):\n",
    "    doc = [word for word in doc if word in model.vocab]\n",
    "    return np.mean(model[doc], axis=0)"
   ]
  },
  {
   "cell_type": "code",
   "execution_count": null,
   "metadata": {},
   "outputs": [],
   "source": [
    "# embedding based featurization\n",
    "..."
   ]
  },
  {
   "cell_type": "markdown",
   "metadata": {},
   "source": [
    "## Classification"
   ]
  },
  {
   "cell_type": "markdown",
   "metadata": {},
   "source": [
    "Either use cross-validation or partition your data with training/validation/test sets for this section. Do the following:\n",
    "\n",
    "* Choose a supervised learning algorithm such as logistic regression, random forest etc. \n",
    "* Train six models. For each of the three dataframes you created in the featurization part, train one model to predict whether the author of the tweet is a Democrat or Republican, and a second model to predict whether the author is a Senator or Representative.\n",
    "* Report the accuracy and other relevant metrics for each of these six models.\n",
    "* Choose the featurization technique associated with your best model. Combine those text features with non-text features. Train two more models: (1) A supervised learning algorithm that uses just the non-text features and (2) a supervised learning algorithm that combines text and non-text features. Report accuracy and other relevant metrics. \n",
    "\n",
    "If time permits, you are encouraged to use hyperparameter tuning or AutoML techniques like TPOT, but are not explicitly required to do so."
   ]
  },
  {
   "cell_type": "markdown",
   "metadata": {},
   "source": [
    "### Train Six Models with Just Text"
   ]
  },
  {
   "cell_type": "code",
   "execution_count": null,
   "metadata": {},
   "outputs": [],
   "source": [
    "# six models ([engineered features, frequency-based, embedding] * [democrat/republican, senator/representative])\n",
    "..."
   ]
  },
  {
   "cell_type": "markdown",
   "metadata": {},
   "source": [
    "### Two Combined Models"
   ]
  },
  {
   "cell_type": "code",
   "execution_count": null,
   "metadata": {},
   "outputs": [],
   "source": [
    "# two models ([best text features + non-text features] * [democrat/republican, senator/representative])\n",
    "..."
   ]
  },
  {
   "cell_type": "markdown",
   "metadata": {},
   "source": [
    "## Discussion Questions"
   ]
  },
  {
   "cell_type": "markdown",
   "metadata": {},
   "source": [
    "1. Why do standard preprocessing techniques need to be further customized to a particular corpus?"
   ]
  },
  {
   "cell_type": "markdown",
   "metadata": {},
   "source": [
    "**YOUR ANSWER HERE** ..."
   ]
  },
  {
   "cell_type": "markdown",
   "metadata": {},
   "source": [
    "2. Did you find evidence for the idea that Democrats and Republicans have different sentiments in their tweets? What about Senators and Representatives?"
   ]
  },
  {
   "cell_type": "markdown",
   "metadata": {},
   "source": [
    "**YOUR ANSWER HERE** ..."
   ]
  },
  {
   "cell_type": "markdown",
   "metadata": {},
   "source": [
    "3. Why is validating your exploratory and unsupervised learning approaches with a supervised learning algorithm valuable?"
   ]
  },
  {
   "cell_type": "markdown",
   "metadata": {},
   "source": [
    "**YOUR ANSWER HERE** ..."
   ]
  },
  {
   "cell_type": "markdown",
   "metadata": {},
   "source": [
    "4. Did text only, non-text only, or text and non-text features together perform the best? What is the intuition behind combining text and non-text features in a supervised learning algorithm?"
   ]
  },
  {
   "cell_type": "markdown",
   "metadata": {},
   "source": [
    "**YOUR ANSWER HERE** ..."
   ]
  }
 ],
 "metadata": {
  "kernelspec": {
   "display_name": "Python 3 (ipykernel)",
   "language": "python",
   "name": "python3"
  },
  "language_info": {
   "codemirror_mode": {
    "name": "ipython",
    "version": 3
   },
   "file_extension": ".py",
   "mimetype": "text/x-python",
   "name": "python",
   "nbconvert_exporter": "python",
   "pygments_lexer": "ipython3",
   "version": "3.11.5"
  }
 },
 "nbformat": 4,
 "nbformat_minor": 4
}
